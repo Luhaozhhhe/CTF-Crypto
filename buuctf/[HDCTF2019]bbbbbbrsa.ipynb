{
 "cells": [
  {
   "cell_type": "code",
   "execution_count": null,
   "id": "55ce5feb",
   "metadata": {},
   "outputs": [],
   "source": [
    "from base64 import b64encode as b32encode\n",
    "from gmpy2 import invert,gcd,iroot\n",
    "from Crypto.Util.number import *\n",
    "from binascii import a2b_hex,b2a_hex\n",
    "import random\n",
    "\n",
    "flag = \"******************************\"\n",
    "\n",
    "nbit = 128\n",
    "\n",
    "p = getPrime(nbit)\n",
    "q = getPrime(nbit)\n",
    "n = p*q\n",
    "\n",
    "print p\n",
    "print n\n",
    "\n",
    "phi = (p-1)*(q-1)\n",
    "\n",
    "e = random.randint(50000,70000)\n",
    "\n",
    "while True:\n",
    "    if gcd(e,phi) == 1:\n",
    "        break;\n",
    "    else:\n",
    "        e -= 1;\n",
    "\n",
    "c = pow(int(b2a_hex(flag),16),e,n)\n",
    "\n",
    "print b32encode(str(c))[::-1]\n",
    "\n",
    "# 2373740699529364991763589324200093466206785561836101840381622237225512234632\n"
   ]
  },
  {
   "cell_type": "code",
   "execution_count": 2,
   "id": "810dc09a",
   "metadata": {},
   "outputs": [],
   "source": [
    "p = 177077389675257695042507998165006460849\n",
    "n = 37421829509887796274897162249367329400988647145613325367337968063341372726061\n",
    "#c = ==gMzYDNzIjMxUTNyIzNzIjMyYTM4MDM0gTMwEjNzgTM2UTN4cjNwIjN2QzM5ADMwIDNyMTO4UzM2cTM5kDN2MTOyUTO5YDM0czM3MjM\n"
   ]
  },
  {
   "cell_type": "code",
   "execution_count": 3,
   "id": "00684c82",
   "metadata": {},
   "outputs": [
    {
     "name": "stdout",
     "output_type": "stream",
     "text": [
      "211330365658290458913359957704294614589\n"
     ]
    }
   ],
   "source": [
    "q=n//p\n",
    "print(q)"
   ]
  },
  {
   "cell_type": "code",
   "execution_count": 7,
   "id": "3cfcadff",
   "metadata": {},
   "outputs": [
    {
     "name": "stdout",
     "output_type": "stream",
     "text": [
      "MjM3Mzc0MDY5OTUyOTM2NDk5MTc2MzU4OTMyNDIwMDA5MzQ2NjIwNjc4NTU2MTgzNjEwMTg0MDM4MTYyMjIzNzIyNTUxMjIzNDYzMg==\n"
     ]
    }
   ],
   "source": [
    "p=177077389675257695042507998165006460849\n",
    "q=211330365658290458913359957704294614589\n",
    "n=37421829509887796274897162249367329400988647145613325367337968063341372726061\n",
    "c=\"==gMzYDNzIjMxUTNyIzNzIjMyYTM4MDM0gTMwEjNzgTM2UTN4cjNwIjN2QzM5ADMwIDNyMTO4UzM2cTM5kDN2MTOyUTO5YDM0czM3MjM\"\n",
    "c_1=c[::-1]\n",
    "print(c_1)"
   ]
  },
  {
   "cell_type": "code",
   "execution_count": 8,
   "id": "36356588",
   "metadata": {},
   "outputs": [
    {
     "name": "stdout",
     "output_type": "stream",
     "text": [
      "37421829509887796274897162249367329400600239390279777213382100107472071650624\n"
     ]
    }
   ],
   "source": [
    "c=2373740699529364991763589324200093466206785561836101840381622237225512234632\n",
    "p=177077389675257695042507998165006460849\n",
    "q=211330365658290458913359957704294614589\n",
    "n=37421829509887796274897162249367329400988647145613325367337968063341372726061\n",
    "phi=(p-1)*(q-1)\n",
    "print(phi)"
   ]
  },
  {
   "cell_type": "code",
   "execution_count": 22,
   "id": "0edc09ec",
   "metadata": {},
   "outputs": [
    {
     "name": "stdout",
     "output_type": "stream",
     "text": [
      "b'flag{rs4_1s_s1mpl3!#}'\n"
     ]
    }
   ],
   "source": [
    "from gmpy2 import invert,gcd,iroot\n",
    "from binascii import a2b_hex\n",
    "from Crypto.Util.number import *\n",
    "phi=37421829509887796274897162249367329400600239390279777213382100107472071650624\n",
    "c=2373740699529364991763589324200093466206785561836101840381622237225512234632\n",
    "p=177077389675257695042507998165006460849\n",
    "q=211330365658290458913359957704294614589\n",
    "n=37421829509887796274897162249367329400988647145613325367337968063341372726061\n",
    "for i in range(50000,70000):\n",
    "    if gcd(i,phi)==1:\n",
    "        d=invert(i,phi)\n",
    "        m=pow(c,d,n)\n",
    "        if 'flag' in str(long_to_bytes(m)):\n",
    "            print(long_to_bytes(m))\n",
    "\n",
    "\n",
    "        \n",
    "        "
   ]
  },
  {
   "cell_type": "code",
   "execution_count": null,
   "id": "fbbccca0",
   "metadata": {},
   "outputs": [],
   "source": []
  }
 ],
 "metadata": {
  "kernelspec": {
   "display_name": "Python 3 (ipykernel)",
   "language": "python",
   "name": "python3"
  },
  "language_info": {
   "codemirror_mode": {
    "name": "ipython",
    "version": 3
   },
   "file_extension": ".py",
   "mimetype": "text/x-python",
   "name": "python",
   "nbconvert_exporter": "python",
   "pygments_lexer": "ipython3",
   "version": "3.11.4"
  }
 },
 "nbformat": 4,
 "nbformat_minor": 5
}
