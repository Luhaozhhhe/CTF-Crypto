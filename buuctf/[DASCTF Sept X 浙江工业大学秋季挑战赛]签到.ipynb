{
 "cells": [
  {
   "cell_type": "code",
   "execution_count": null,
   "id": "a9620146",
   "metadata": {},
   "outputs": [],
   "source": [
    "#!/usr/bin/env python\n",
    "# -*- coding: utf-8 -*-\n",
    "from Crypto.Util.number import *\n",
    "import random\n",
    "flag=b'flag{******************}'\n",
    "n = 2 ** 256\n",
    "flaglong=bytes_to_long(flag)\n",
    "m = random.randint(2, n-1) | 1\n",
    "c = pow(m, flaglong, n)\n",
    "print('m = ' + str(m))\n",
    "print('c = ' + str(c))\n",
    "\n",
    "# m = 73964803637492582853353338913523546944627084372081477892312545091623069227301\n",
    "# c = 21572244511100216966799370397791432119463715616349800194229377843045443048821\n"
   ]
  },
  {
   "cell_type": "code",
   "execution_count": 7,
   "id": "33914ea7",
   "metadata": {},
   "outputs": [
    {
     "name": "stdout",
     "output_type": "stream",
     "text": [
      "b'flag{DASCTF_zjut}'\n"
     ]
    }
   ],
   "source": [
    "m = 73964803637492582853353338913523546944627084372081477892312545091623069227301\n",
    "c = 21572244511100216966799370397791432119463715616349800194229377843045443048821\n",
    "n=2 ** 256\n",
    "from gmpy2 import *\n",
    "from Crypto.Util.number import *\n",
    "import sympy\n",
    "flag=sympy.discrete_log(n,c,m)\n",
    "print(long_to_bytes(flag))\n"
   ]
  },
  {
   "cell_type": "code",
   "execution_count": null,
   "id": "ab504416",
   "metadata": {},
   "outputs": [],
   "source": []
  }
 ],
 "metadata": {
  "kernelspec": {
   "display_name": "Python 3 (ipykernel)",
   "language": "python",
   "name": "python3"
  },
  "language_info": {
   "codemirror_mode": {
    "name": "ipython",
    "version": 3
   },
   "file_extension": ".py",
   "mimetype": "text/x-python",
   "name": "python",
   "nbconvert_exporter": "python",
   "pygments_lexer": "ipython3",
   "version": "3.11.4"
  }
 },
 "nbformat": 4,
 "nbformat_minor": 5
}
