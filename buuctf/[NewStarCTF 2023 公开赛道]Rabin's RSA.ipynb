{
 "cells": [
  {
   "cell_type": "code",
   "execution_count": null,
   "id": "2f964f07",
   "metadata": {},
   "outputs": [],
   "source": [
    "from Crypto.Util.number import *\n",
    "from secret import flag\n",
    "p = getPrime(64)\n",
    "q = getPrime(64)\n",
    "assert p % 4 == 3\n",
    "assert q % 4 == 3\n",
    "\n",
    "n = p * q\n",
    "\n",
    "e = 2\n",
    "m = bytes_to_long(flag)\n",
    "\n",
    "c = pow(m,e,n)\n",
    "\n",
    "print('n =', n)\n",
    "print('c =', c)\n",
    "\n",
    "# n = 201354090531918389422241515534761536573\n",
    "# c = 20442989381348880630046435751193745753"
   ]
  }
 ],
 "metadata": {
  "kernelspec": {
   "display_name": "Python 3 (ipykernel)",
   "language": "python",
   "name": "python3"
  },
  "language_info": {
   "codemirror_mode": {
    "name": "ipython",
    "version": 3
   },
   "file_extension": ".py",
   "mimetype": "text/x-python",
   "name": "python",
   "nbconvert_exporter": "python",
   "pygments_lexer": "ipython3",
   "version": "3.11.4"
  }
 },
 "nbformat": 4,
 "nbformat_minor": 5
}
