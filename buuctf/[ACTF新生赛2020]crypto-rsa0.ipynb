{
 "cells": [
  {
   "cell_type": "code",
   "execution_count": null,
   "id": "de333b40",
   "metadata": {},
   "outputs": [],
   "source": [
    "from Cryptodome.Util.number import *\n",
    "import random\n",
    "\n",
    "FLAG=#hidden, please solve it\n",
    "flag=int.from_bytes(FLAG,byteorder = 'big')\n",
    "\n",
    "\n",
    "p=getPrime(512)\n",
    "q=getPrime(512)\n",
    "\n",
    "print(p)\n",
    "print(q)\n",
    "N=p*q\n",
    "e=65537\n",
    "enc = pow(flag,e,N)\n",
    "print (enc)\n"
   ]
  },
  {
   "cell_type": "code",
   "execution_count": 5,
   "id": "177bdd26",
   "metadata": {},
   "outputs": [
    {
     "name": "stdout",
     "output_type": "stream",
     "text": [
      "b'actf{n0w_y0u_see_RSA}'\n"
     ]
    }
   ],
   "source": [
    "p=9018588066434206377240277162476739271386240173088676526295315163990968347022922841299128274551482926490908399237153883494964743436193853978459947060210411\n",
    "q=7547005673877738257835729760037765213340036696350766324229143613179932145122130685778504062410137043635958208805698698169847293520149572605026492751740223\n",
    "enc=50996206925961019415256003394743594106061473865032792073035954925875056079762626648452348856255575840166640519334862690063949316515750256545937498213476286637455803452890781264446030732369871044870359838568618176586206041055000297981733272816089806014400846392307742065559331874972274844992047849472203390350\n",
    "from gmpy2 import *\n",
    "from Crypto.Util.number import *\n",
    "phi=(p-1)*(q-1)\n",
    "n=p*q\n",
    "e=65537\n",
    "d=invert(e,phi)\n",
    "m=pow(enc,d,n)\n",
    "print(long_to_bytes(m))"
   ]
  },
  {
   "cell_type": "code",
   "execution_count": null,
   "id": "0e4b5926",
   "metadata": {},
   "outputs": [],
   "source": []
  }
 ],
 "metadata": {
  "kernelspec": {
   "display_name": "Python 3 (ipykernel)",
   "language": "python",
   "name": "python3"
  },
  "language_info": {
   "codemirror_mode": {
    "name": "ipython",
    "version": 3
   },
   "file_extension": ".py",
   "mimetype": "text/x-python",
   "name": "python",
   "nbconvert_exporter": "python",
   "pygments_lexer": "ipython3",
   "version": "3.11.4"
  }
 },
 "nbformat": 4,
 "nbformat_minor": 5
}
