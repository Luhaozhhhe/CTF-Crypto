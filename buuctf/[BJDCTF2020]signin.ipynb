{
 "cells": [
  {
   "cell_type": "code",
   "execution_count": 8,
   "id": "00fb60b0",
   "metadata": {},
   "outputs": [
    {
     "name": "stdout",
     "output_type": "stream",
     "text": [
      "b'BJD{We1c0me_t4_BJDCTF}'\n"
     ]
    }
   ],
   "source": [
    "\n",
    "from Crypto.Util.number import *\n",
    "print(long_to_bytes(0x424a447b57653163306d655f74345f424a444354467d))\n"
   ]
  },
  {
   "cell_type": "code",
   "execution_count": null,
   "id": "bb69e928",
   "metadata": {},
   "outputs": [],
   "source": []
  }
 ],
 "metadata": {
  "kernelspec": {
   "display_name": "Python 3 (ipykernel)",
   "language": "python",
   "name": "python3"
  },
  "language_info": {
   "codemirror_mode": {
    "name": "ipython",
    "version": 3
   },
   "file_extension": ".py",
   "mimetype": "text/x-python",
   "name": "python",
   "nbconvert_exporter": "python",
   "pygments_lexer": "ipython3",
   "version": "3.11.4"
  }
 },
 "nbformat": 4,
 "nbformat_minor": 5
}
