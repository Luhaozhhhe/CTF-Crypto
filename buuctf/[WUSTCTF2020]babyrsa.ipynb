{
 "cells": [
  {
   "cell_type": "code",
   "execution_count": null,
   "id": "a4b875cc",
   "metadata": {},
   "outputs": [],
   "source": [
    "c = 28767758880940662779934612526152562406674613203406706867456395986985664083182\n",
    "n = 73069886771625642807435783661014062604264768481735145873508846925735521695159\n",
    "e = 65537"
   ]
  },
  {
   "cell_type": "code",
   "execution_count": 3,
   "id": "d03fc99e",
   "metadata": {},
   "outputs": [
    {
     "name": "stdout",
     "output_type": "stream",
     "text": [
      "b'wctf2020{just_@_piece_0f_cak3}'\n"
     ]
    }
   ],
   "source": [
    "p=189239861511125143212536989589123569301\n",
    "q=386123125371923651191219869811293586459\n",
    "phi=(p-1)*(q-1)\n",
    "e=65537\n",
    "c=28767758880940662779934612526152562406674613203406706867456395986985664083182\n",
    "from gmpy2 import *\n",
    "from Crypto.Util.number import *\n",
    "n=p*q\n",
    "d=invert(e,phi)\n",
    "m=pow(c,d,n)\n",
    "print(long_to_bytes(m))"
   ]
  },
  {
   "cell_type": "code",
   "execution_count": null,
   "id": "7eaff650",
   "metadata": {},
   "outputs": [],
   "source": []
  }
 ],
 "metadata": {
  "kernelspec": {
   "display_name": "Python 3 (ipykernel)",
   "language": "python",
   "name": "python3"
  },
  "language_info": {
   "codemirror_mode": {
    "name": "ipython",
    "version": 3
   },
   "file_extension": ".py",
   "mimetype": "text/x-python",
   "name": "python",
   "nbconvert_exporter": "python",
   "pygments_lexer": "ipython3",
   "version": "3.11.4"
  }
 },
 "nbformat": 4,
 "nbformat_minor": 5
}
